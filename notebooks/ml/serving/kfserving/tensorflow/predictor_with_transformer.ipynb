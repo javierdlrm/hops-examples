{
 "cells": [
  {
   "cell_type": "raw",
   "metadata": {},
   "source": [
    "---\n",
    "title: \"TensorFlow End-to-End Example - MNIST\"\n",
    "date: 2021-02-24\n",
    "type: technical_note\n",
    "draft: false\n",
    "---"
   ]
  },
  {
   "cell_type": "markdown",
   "metadata": {},
   "source": [
    "# Model Serving with KFServing - Mnist\n",
    "---\n",
    "\n",
    "*INPUT --> TRANSFORMER --> ENRICHED INPUT --> MODEL --> PREDICTION*\n",
    "\n",
    "<font color='red'><h3>This notebook requires KFServing</h3></font>"
   ]
  },
  {
   "cell_type": "markdown",
   "metadata": {},
   "source": [
    "> **NOTE:** It is assumed that a model called *mnist* is already available in Hopsworks. An example of training a model for the *MNIST handwritten digit classification problem* is available in `Jupyter/experiment/Tensorflow/mnist.ipynb`"
   ]
  },
  {
   "cell_type": "markdown",
   "metadata": {},
   "source": [
    "## Model Serving on [Hopsworks](https://github.com/logicalclocks/hopsworks)"
   ]
  },
  {
   "cell_type": "markdown",
   "metadata": {},
   "source": [
    "![hops.png](../../../images/hops.png)\n",
    "\n",
    "### The `hops` python library\n",
    "\n",
    "`hops` is a helper library for Hops that facilitates development by hiding the complexity of running applications and iteracting with services.\n",
    "\n",
    "Have a feature request or encountered an issue? Please let us know on <a href=\"https://github.com/logicalclocks/hops-util-py\">github</a>."
   ]
  },
  {
   "cell_type": "markdown",
   "metadata": {},
   "source": [
    "## Check Model Repository for best model based on accuracy"
   ]
  },
  {
   "cell_type": "markdown",
   "metadata": {},
   "source": [
    "![Image7-Monitor.png](../../../images/models.gif)"
   ]
  },
  {
   "cell_type": "markdown",
   "metadata": {},
   "source": [
    "## Query Model Repository for best mnist Model"
   ]
  },
  {
   "cell_type": "code",
   "execution_count": 1,
   "metadata": {},
   "outputs": [],
   "source": [
    "from hops import model\n",
    "from hops.model import Metric\n",
    "MODEL_NAME=\"mnist\"\n",
    "EVALUATION_METRIC=\"accuracy\""
   ]
  },
  {
   "cell_type": "code",
   "execution_count": 2,
   "metadata": {},
   "outputs": [],
   "source": [
    "best_model = model.get_best_model(MODEL_NAME, EVALUATION_METRIC, Metric.MAX)"
   ]
  },
  {
   "cell_type": "code",
   "execution_count": 3,
   "metadata": {},
   "outputs": [
    {
     "name": "stdout",
     "output_type": "stream",
     "text": [
      "Model name: mnist\n",
      "Model version: 1\n",
      "{'accuracy': '0.65625'}\n"
     ]
    }
   ],
   "source": [
    "print('Model name: ' + best_model['name'])\n",
    "print('Model version: ' + str(best_model['version']))\n",
    "print(best_model['metrics'])"
   ]
  },
  {
   "cell_type": "markdown",
   "metadata": {},
   "source": [
    "## Serve the Trained Model with a Transformer"
   ]
  },
  {
   "cell_type": "markdown",
   "metadata": {},
   "source": [
    "To serve a model with a transformer, write a python script that implements the `Transformer` class and the methods `preprocess` and `postprocess`, like this:\n",
    "\n",
    "```python\n",
    "class Transformer(object):\n",
    "    def __init__(self):\n",
    "        print(\"[Transformer] Initializing...\")\n",
    "        # Initialization code goes here\n",
    "\n",
    "    def preprocess(self, inputs):\n",
    "        print(\"[Transformer] Preprocessing...\")\n",
    "        # Transform the requests inputs here. The object returned by this method will be used as model input.\n",
    "        return inputs\n",
    "\n",
    "    def postprocess(self, outputs):\n",
    "        print(\"[Transformer] Postprocessing...\")\n",
    "        # Transform the predictions computed by the model before returning a response.\n",
    "        return outputs\n",
    "```\n"
   ]
  },
  {
   "cell_type": "code",
   "execution_count": 4,
   "metadata": {},
   "outputs": [],
   "source": [
    "from hops import serving\n",
    "from hops import hdfs"
   ]
  },
  {
   "cell_type": "code",
   "execution_count": 5,
   "metadata": {},
   "outputs": [
    {
     "name": "stdout",
     "output_type": "stream",
     "text": [
      "Inferring model server from artifact files: TENSORFLOW_SERVING\n",
      "Creating serving mnist for artifact /Projects/demo_ml_meb10000//Models/mnist ...\n",
      "Serving mnist successfully created\n"
     ]
    }
   ],
   "source": [
    "# Create serving instance\n",
    "SERVING_NAME = MODEL_NAME\n",
    "MODEL_PATH=\"/Models/\" + best_model['name']\n",
    "TRANSFORMER_PATH=hdfs.project_path() + \"/Jupyter/serving/kfserving/tensorflow/transformer.py\"\n",
    "\n",
    "response = serving.create_or_update(SERVING_NAME, # define a name for the serving instance\n",
    "                                    MODEL_PATH, model_version=best_model['version'], # set the path and version of the model to be deployed\n",
    "                                    kfserving=True, # whether to serve the model using KFServing or the default tool in the current Hopsworks version\n",
    "                                    topic_name=\"CREATE\", # (optional) set the topic name or CREATE to create a new topic for inference logging\n",
    "                                    inference_logging=\"ALL\", # with KFServing, select the type of inference data to log into Kafka, e.g MODEL_INPUTS, PREDICTIONS or ALL\n",
    "                                    transformer=TRANSFORMER_PATH, \n",
    "                                    instances=1, # with KFServing, set 0 instances to leverage scale-to-zero capabilities\n",
    "                                    transformer_instances=1, # with KFServing, set 0 instances to leverage scale-to-zero capabilities\n",
    "                                    )"
   ]
  },
  {
   "cell_type": "code",
   "execution_count": 6,
   "metadata": {},
   "outputs": [
    {
     "name": "stdout",
     "output_type": "stream",
     "text": [
      "mnist\n"
     ]
    }
   ],
   "source": [
    "# List all available servings in the project\n",
    "for s in serving.get_all():\n",
    "    print(s.name)"
   ]
  },
  {
   "cell_type": "code",
   "execution_count": 7,
   "metadata": {},
   "outputs": [
    {
     "data": {
      "text/plain": [
       "'Stopped'"
      ]
     },
     "execution_count": 7,
     "metadata": {},
     "output_type": "execute_result"
    }
   ],
   "source": [
    "# Get serving status\n",
    "serving.get_status(SERVING_NAME)"
   ]
  },
  {
   "cell_type": "markdown",
   "metadata": {},
   "source": [
    "## Check Model Serving for active servings"
   ]
  },
  {
   "cell_type": "markdown",
   "metadata": {},
   "source": [
    "![Image7-Monitor.png](../../../images/servings.gif)"
   ]
  },
  {
   "cell_type": "markdown",
   "metadata": {},
   "source": [
    "## Start Model Serving Server"
   ]
  },
  {
   "cell_type": "code",
   "execution_count": 8,
   "metadata": {},
   "outputs": [
    {
     "name": "stdout",
     "output_type": "stream",
     "text": [
      "Starting serving with name: mnist...\n",
      "Serving with name: mnist successfully started\n"
     ]
    }
   ],
   "source": [
    "if serving.get_status(SERVING_NAME) == 'Stopped':\n",
    "    serving.start(SERVING_NAME)"
   ]
  },
  {
   "cell_type": "code",
   "execution_count": 9,
   "metadata": {},
   "outputs": [],
   "source": [
    "import time\n",
    "while serving.get_status(SERVING_NAME) != \"Running\":\n",
    "    time.sleep(5) # Let the serving startup correctly\n",
    "time.sleep(5)"
   ]
  },
  {
   "cell_type": "markdown",
   "metadata": {},
   "source": [
    "## Send Prediction Requests to the Served Model using Hopsworks REST API"
   ]
  },
  {
   "cell_type": "code",
   "execution_count": 10,
   "metadata": {},
   "outputs": [],
   "source": [
    "import numpy as np\n",
    "TOPIC_NAME = serving.get_kafka_topic(SERVING_NAME)\n",
    "NUM_FEATURES=784"
   ]
  },
  {
   "cell_type": "code",
   "execution_count": 11,
   "metadata": {},
   "outputs": [
    {
     "name": "stdout",
     "output_type": "stream",
     "text": [
      "{'predictions': [[0.0147801526, 0.00866303, 0.16441761, 0.0283872709, 0.316972435, 0.0116910841, 0.272938251, 0.0568961799, 0.0464549698, 0.0787989348]]}\n",
      "{'predictions': [[0.0147954272, 0.0219566841, 0.121858038, 0.0260763094, 0.37078473, 0.0191048179, 0.187556162, 0.0905136541, 0.0653297752, 0.0820243508]]}\n",
      "{'predictions': [[0.041775696, 0.0125995874, 0.151431233, 0.0301594064, 0.231847495, 0.0199446511, 0.218778029, 0.034365721, 0.0357867628, 0.22331138]]}\n",
      "{'predictions': [[0.0118000535, 0.00634807, 0.0942876, 0.0280166529, 0.345347196, 0.0147242304, 0.290315151, 0.0584374703, 0.0406196378, 0.110103831]]}\n",
      "{'predictions': [[0.0168230962, 0.0196851324, 0.136483476, 0.0223759525, 0.314222127, 0.0126352217, 0.195060492, 0.0946132, 0.101502478, 0.0865987837]]}\n",
      "{'predictions': [[0.012531314, 0.00801518187, 0.0621500127, 0.0274804309, 0.409992367, 0.0117388759, 0.214463159, 0.10666319, 0.0539339446, 0.093031548]]}\n",
      "{'predictions': [[0.0227185059, 0.00945187267, 0.103138261, 0.0240464956, 0.418488801, 0.00901350286, 0.162454322, 0.072751537, 0.0594295412, 0.118507162]]}\n",
      "{'predictions': [[0.0215073191, 0.00890362635, 0.133723691, 0.0321299881, 0.342830777, 0.0204098094, 0.181494713, 0.0552746505, 0.0820653066, 0.121660098]]}\n",
      "{'predictions': [[0.0147128226, 0.0238348506, 0.0710615367, 0.0373003222, 0.36129275, 0.0170789603, 0.144523472, 0.0981484354, 0.0892651752, 0.14278169]]}\n",
      "{'predictions': [[0.0360196382, 0.0180424396, 0.192435727, 0.0168733858, 0.242829889, 0.0210796166, 0.171805963, 0.0831283554, 0.0712217763, 0.146563157]]}\n"
     ]
    }
   ],
   "source": [
    "import json\n",
    "for i in range(10):\n",
    "    data = {\n",
    "                \"signature_name\": \"serving_default\", \"instances\": [np.random.rand(NUM_FEATURES).tolist()]\n",
    "            }\n",
    "    response = serving.make_inference_request(SERVING_NAME, data)\n",
    "    print(response)"
   ]
  },
  {
   "cell_type": "markdown",
   "metadata": {},
   "source": [
    "## Monitor Prediction Requests and Responses using Kafka"
   ]
  },
  {
   "cell_type": "markdown",
   "metadata": {},
   "source": [
    "All prediction requestst are automatically logged to Kafka which means that you can keep track for your model's performance and its predictions in a scalable manner."
   ]
  },
  {
   "cell_type": "code",
   "execution_count": 12,
   "metadata": {},
   "outputs": [],
   "source": [
    "from hops import kafka\n",
    "from confluent_kafka import Producer, Consumer, KafkaError"
   ]
  },
  {
   "cell_type": "markdown",
   "metadata": {},
   "source": [
    "Setup Kafka Consumer and Subscribe to the Topic containing the Inference Logs"
   ]
  },
  {
   "cell_type": "code",
   "execution_count": 13,
   "metadata": {},
   "outputs": [],
   "source": [
    "config = kafka.get_kafka_default_config()\n",
    "config['default.topic.config'] = {'auto.offset.reset': 'earliest'}\n",
    "consumer = Consumer(config)\n",
    "topics = [TOPIC_NAME]\n",
    "consumer.subscribe(topics)"
   ]
  },
  {
   "cell_type": "markdown",
   "metadata": {},
   "source": [
    "Read Kafka Avro Schema From Hopsworks and setup an Avro Reader"
   ]
  },
  {
   "cell_type": "code",
   "execution_count": 14,
   "metadata": {},
   "outputs": [],
   "source": [
    "json_schema = kafka.get_schema(TOPIC_NAME)\n",
    "avro_schema = kafka.convert_json_schema_to_avro(json_schema)"
   ]
  },
  {
   "cell_type": "markdown",
   "metadata": {},
   "source": [
    "Read 10 Messages from the Kafka Topic, parse them with the Avro Schema and print the results"
   ]
  },
  {
   "cell_type": "code",
   "execution_count": 15,
   "metadata": {},
   "outputs": [
    {
     "name": "stdout",
     "output_type": "stream",
     "text": [
      "timeout.. no more messages to read from topic\n",
      "timeout.. no more messages to read from topic\n",
      "INFO -> servingId: 8, modelName: mnist, modelVersion: 1,requestTimestamp: 1623685825, inferenceId:cdb85932-d69f-41a8-a34e-83ce7ec732b4, messageType:response\n",
      "Predictions -> [[0.0147801526, 0.00866303, 0.16441761, 0.0283872709, 0.316972435, 0.0116910841, 0.272938251, 0.0568961799, 0.0464549698, 0.0787989348]]\n",
      "\n",
      "INFO -> servingId: 8, modelName: mnist, modelVersion: 1,requestTimestamp: 1623685826, inferenceId:ec5c74d4-c1f6-42c2-a5c7-7dfcb55d3e64, messageType:response\n",
      "Predictions -> [[0.0147954272, 0.0219566841, 0.121858038, 0.0260763094, 0.37078473, 0.0191048179, 0.187556162, 0.0905136541, 0.0653297752, 0.0820243508]]\n",
      "\n",
      "INFO -> servingId: 8, modelName: mnist, modelVersion: 1,requestTimestamp: 1623685826, inferenceId:de054dd8-5518-4235-8d78-30718e5d9ad8, messageType:response\n",
      "Predictions -> [[0.041775696, 0.0125995874, 0.151431233, 0.0301594064, 0.231847495, 0.0199446511, 0.218778029, 0.034365721, 0.0357867628, 0.22331138]]\n",
      "\n",
      "INFO -> servingId: 8, modelName: mnist, modelVersion: 1,requestTimestamp: 1623685826, inferenceId:19535b2f-9c57-499c-8aed-1cff1aeb60a5, messageType:response\n",
      "Predictions -> [[0.0118000535, 0.00634807, 0.0942876, 0.0280166529, 0.345347196, 0.0147242304, 0.290315151, 0.0584374703, 0.0406196378, 0.110103831]]\n",
      "\n"
     ]
    }
   ],
   "source": [
    "print_instances=False\n",
    "print_predictions=True\n",
    "\n",
    "for i in range(0, 10):\n",
    "    msg = consumer.poll(timeout=1)\n",
    "    if msg is not None:\n",
    "        value = msg.value()\n",
    "        try:\n",
    "            event_dict = kafka.parse_avro_msg(value, avro_schema)  \n",
    "            payload = json.loads(event_dict[\"payload\"])\n",
    "            \n",
    "            if (event_dict['messageType'] == \"request\" and not print_instances) or \\\n",
    "                (event_dict['messageType'] == \"response\" and not print_predictions):\n",
    "                continue\n",
    "            \n",
    "            print(\"INFO -> servingId: {}, modelName: {}, modelVersion: {},\"\\\n",
    "                  \"requestTimestamp: {}, inferenceId:{}, messageType:{}\".format(\n",
    "                       event_dict[\"servingId\"],\n",
    "                       event_dict[\"modelName\"],\n",
    "                       event_dict[\"modelVersion\"],\n",
    "                       event_dict[\"requestTimestamp\"],\n",
    "                       event_dict[\"inferenceId\"],\n",
    "                       event_dict[\"messageType\"]))\n",
    "\n",
    "            if event_dict['messageType'] == \"request\":\n",
    "                print(\"Instances -> {}\\n\".format(payload['instances']))\n",
    "                \n",
    "            if event_dict['messageType'] == \"response\":\n",
    "                print(\"Predictions -> {}\\n\".format(payload['predictions']))\n",
    "\n",
    "        except Exception as e:\n",
    "            print(\"A message was read but there was an error parsing it\")\n",
    "            print(e)\n",
    "    else:\n",
    "        print(\"timeout.. no more messages to read from topic\")"
   ]
  },
  {
   "cell_type": "code",
   "execution_count": null,
   "metadata": {},
   "outputs": [],
   "source": []
  }
 ],
 "metadata": {
  "kernelspec": {
   "display_name": "Python",
   "language": "python",
   "name": "python3"
  },
  "language_info": {
   "codemirror_mode": {
    "name": "ipython",
    "version": 3
   },
   "file_extension": ".py",
   "mimetype": "text/x-python",
   "name": "python",
   "nbconvert_exporter": "python",
   "pygments_lexer": "ipython3",
   "version": "3.7.9"
  }
 },
 "nbformat": 4,
 "nbformat_minor": 4
}